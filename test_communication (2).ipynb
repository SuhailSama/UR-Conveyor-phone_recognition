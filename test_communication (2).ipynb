{
 "cells": [
  {
   "cell_type": "markdown",
   "metadata": {},
   "source": [
    "# Protocol definition"
   ]
  },
  {
   "cell_type": "code",
   "execution_count": 1,
   "metadata": {
    "collapsed": true
   },
   "outputs": [],
   "source": [
    "# %load STMprotocol\n",
    "import serial\n",
    "import struct\n",
    "import datetime\n",
    "import time\n"
   ]
  },
  {
   "cell_type": "code",
   "execution_count": 27,
   "metadata": {
    "collapsed": true
   },
   "outputs": [],
   "source": [
    "\n",
    "\n",
    "class STMprotocol:\n",
    "    def __init__(self, serial_port):\n",
    "        self.ser = serial.Serial(serial_port, 64000, timeout=0.2)\n",
    "        self.pack_format = {\n",
    "            0x01: \"=BBBB\",\n",
    "            0x03: \"=Bf\",\n",
    "            0x04: \"=B\",\n",
    "            0x05: \"=B\",\n",
    "            0x06: \"=Bffff\",\n",
    "            0x07: \"=B\",\n",
    "            0x08: \"=fff\",\n",
    "            0x09: \"=\",\n",
    "            0x0a: \"=\",\n",
    "            0x0b: \"=BH\",\n",
    "            \n",
    "        }\n",
    "\n",
    "        self.unpack_format = {\n",
    "            0x01: \"=BBBB\",\n",
    "            0x03: \"=BB\",\n",
    "            0x04: \"=BB\",\n",
    "            0x05: \"=BB\",\n",
    "            0x06: \"=BB\",\n",
    "            0x07: \"=ffff\",\n",
    "            0x08: \"=BB\",\n",
    "            0x09: \"=fff\",\n",
    "            0x0a: \"=fff\",\n",
    "            0x0b: \"=BB\",\n",
    "            0x0c: \"=f\",\n",
    "                    }\n",
    "\n",
    "    def pure_send_command(self, cmd, args):\n",
    "        # Clear buffer\n",
    "        self.ser.reset_output_buffer()\n",
    "        self.ser.reset_input_buffer()\n",
    "        # Sending command\n",
    "        parameters = bytearray(struct.pack(self.pack_format[cmd], *args))\n",
    "        msg_len = len(parameters) + 5\n",
    "        msg = bytearray([0xfa, 0xaf, msg_len, cmd]) + parameters\n",
    "        crc = sum(msg) % 256\n",
    "        msg += bytearray([crc])\n",
    "        self.ser.write(msg)\n",
    "        if cmd == 176 or cmd == 162:\n",
    "            print (cmd, args)\n",
    "        #Receiving data\n",
    "        data = self.ser.read()\n",
    "        if len(data) == 0:\n",
    "            raise Exception(\"No data received\")\n",
    "\n",
    "        sync = ord(data)\n",
    "        if sync != 0xfa:\n",
    "            raise Exception(\"Incorrect byte of syncronization\", sync)\n",
    "        \n",
    "        data = self.ser.read()\n",
    "        if len(data) == 0:\n",
    "            raise Exception(\"No adress received\")\n",
    "        adr = ord(data[0])\n",
    "        \n",
    "        if adr != 0xfa:\n",
    "            raise Exception(\"Incorrect adress\", adr)\n",
    "        answer_len = ord(self.ser.read()[0])\n",
    "        answer = bytearray(self.ser.read(answer_len - 3))\n",
    "        \n",
    "        if (sync + adr + answer_len + sum(answer[:-1])) % 256 != answer[-1]:\n",
    "            raise Exception(\"Error with check sum\", sync, adr, answer_len, answer)\n",
    "        args = struct.unpack(self.unpack_format[cmd], answer[1:-1])\n",
    "        return True, args\n",
    "\n",
    "\n",
    "    def send_command(self, cmd, args, n_repeats = 5):\n",
    "        print (cmd, args)\n",
    "        for i in range(n_repeats):\n",
    "            try:\n",
    "                return self.pure_send_command(cmd, args)\n",
    "            except Exception as exc:\n",
    "                if i == n_repeats-1:\n",
    "                    print('Exception:\\t', exc)\n",
    "                    print('At time:\\t', datetime.datetime.now())\n",
    "                    print('cmd:', cmd, 'args:', args)\n",
    "                    print('--------------------------')\n",
    "        return False, None\n",
    "    \n",
    "    def set_speed(self,v): \n",
    "        high=100\n",
    "        if (v<0): # sign = \"+\" => forward & sign = \"-\" => backwards\n",
    "            dir = 100 # change direction\n",
    "            v=-v\n",
    "        else:\n",
    "            dir = 0\n",
    "        stopped = [4, dir, 0, 0, 0] # v=0 => stopped\n",
    "        speed_1 = [4, dir, 0, 0, high]# v=1 => speed1 = [4, dir, 0, 0, 100]\n",
    "        speed_2 = [4, dir, 0, high, high]# v=2 => speed2 = \n",
    "        speed_3 = [4, dir,high,high, high]# v=3 => speed3 = \n",
    "        \n",
    "            \n",
    "         \n",
    "        if (v==0): \n",
    "            # Stop the conveyor\n",
    "            f=0\n",
    "            self.send_command(0x06, stopped)\n",
    "            t=0\n",
    "        elif (v == 1):\n",
    "            # set speed 1\n",
    "            f=5\n",
    "            self.send_command(0x06, speed_1)\n",
    "            t=5.30/100 \n",
    "        elif(v == 2):\n",
    "            # set speed 2\n",
    "            f=10\n",
    "            self.send_command(0x06, speed_2)\n",
    "            t=2.60/100#\n",
    "        else:\n",
    "        # set speed 3 max\n",
    "            f=10 # TBD\n",
    "            self.send_command(0x06, speed_3)\n",
    "            t=2.60/100# TBD\n",
    "        return(f,t)\n",
    "\n",
    "# Move the conveyor dx with speed v\n",
    "    def move_dx(self,dx,v): \n",
    "        \n",
    "        f,t = self.set_speed(v)\n",
    "        T= dx *t-2  # T - the time of displacement\n",
    "        self.set_speed(v)\n",
    "        time.sleep(T) \n",
    "        self.set_speed(0)\n",
    "        print(dx,'  ',T)\n",
    "        return(dx,T)\n"
   ]
  },
  {
   "cell_type": "markdown",
   "metadata": {},
   "source": [
    "# Work with STM"
   ]
  },
  {
   "cell_type": "markdown",
   "metadata": {},
   "source": [
    "## Start protocol"
   ]
  },
  {
   "cell_type": "code",
   "execution_count": 28,
   "metadata": {
    "collapsed": true
   },
   "outputs": [],
   "source": [
    "#skip\n",
    "protocol_com.ser.close()"
   ]
  },
  {
   "cell_type": "code",
   "execution_count": 29,
   "metadata": {
    "collapsed": true
   },
   "outputs": [],
   "source": [
    "protocol_com = STMprotocol(\"COM13\")"
   ]
  },
  {
   "cell_type": "code",
   "execution_count": 30,
   "metadata": {
    "collapsed": true
   },
   "outputs": [],
   "source": [
    "#protocol_com.ser.close()"
   ]
  },
  {
   "cell_type": "markdown",
   "metadata": {},
   "source": [
    "## Test echo"
   ]
  },
  {
   "cell_type": "code",
   "execution_count": 34,
   "metadata": {
    "scrolled": true
   },
   "outputs": [
    {
     "name": "stdout",
     "output_type": "stream",
     "text": [
      "1 [69, 67, 72, 79]\n",
      "Exception:\t No data received\n",
      "At time:\t 2018-03-19 16:29:08.635667\n",
      "cmd: 1 args: [69, 67, 72, 79]\n",
      "--------------------------\n"
     ]
    },
    {
     "data": {
      "text/plain": [
       "(False, None)"
      ]
     },
     "execution_count": 34,
     "metadata": {},
     "output_type": "execute_result"
    }
   ],
   "source": [
    "# Echo\n",
    "protocol_com.send_command(0x01, [ord(c) for c in 'ECHO'])\n"
   ]
  },
  {
   "cell_type": "code",
   "execution_count": 11,
   "metadata": {
    "collapsed": true
   },
   "outputs": [],
   "source": [
    "conveyor = protocol_com"
   ]
  },
  {
   "cell_type": "markdown",
   "metadata": {},
   "source": [
    "## Debug low level commands"
   ]
  },
  {
   "cell_type": "markdown",
   "metadata": {},
   "source": [
    "# Move 100 cm"
   ]
  },
  {
   "cell_type": "code",
   "execution_count": 27,
   "metadata": {},
   "outputs": [
    {
     "name": "stdout",
     "output_type": "stream",
     "text": [
      "6 [4, 0, 0, 100, 100]\n",
      "Exception:\t No data received\n",
      "At time:\t 2018-03-19 04:37:33.311708\n",
      "cmd: 6 args: [4, 0, 0, 100, 100]\n",
      "--------------------------\n",
      "6 [4, 0, 0, 100, 100]\n",
      "Exception:\t No data received\n",
      "At time:\t 2018-03-19 04:37:34.342174\n",
      "cmd: 6 args: [4, 0, 0, 100, 100]\n",
      "--------------------------\n",
      "6 [4, 0, 0, 0, 0]\n",
      "Exception:\t No data received\n",
      "At time:\t 2018-03-19 04:37:35.964585\n",
      "cmd: 6 args: [4, 0, 0, 0, 0]\n",
      "--------------------------\n",
      "100    0.6000000000000001\n"
     ]
    },
    {
     "data": {
      "text/plain": [
       "(100, 0.6000000000000001)"
      ]
     },
     "execution_count": 27,
     "metadata": {},
     "output_type": "execute_result"
    }
   ],
   "source": [
    "# move dx (in cm) with v\n",
    "conveyor.move_dx(100,2) # Move 100 cm"
   ]
  },
  {
   "cell_type": "markdown",
   "metadata": {},
   "source": [
    "# Stop the conveyor"
   ]
  },
  {
   "cell_type": "code",
   "execution_count": null,
   "metadata": {
    "collapsed": true
   },
   "outputs": [],
   "source": [
    "# Stop the conveyor\n",
    "conveyor.set_speed(0)"
   ]
  },
  {
   "cell_type": "markdown",
   "metadata": {},
   "source": [
    "# Change speed"
   ]
  },
  {
   "cell_type": "code",
   "execution_count": null,
   "metadata": {
    "collapsed": true
   },
   "outputs": [],
   "source": [
    "# Set speed to speed 1\n",
    "conveyor.set_speed(1)"
   ]
  },
  {
   "cell_type": "code",
   "execution_count": null,
   "metadata": {
    "collapsed": true
   },
   "outputs": [],
   "source": [
    "# Set speed to speed 1\n",
    "conveyor.set_speed(0)"
   ]
  },
  {
   "cell_type": "code",
   "execution_count": null,
   "metadata": {
    "collapsed": true
   },
   "outputs": [],
   "source": [
    "# Set speed to speed 2\n",
    "conveyor.set_speed(2)"
   ]
  },
  {
   "cell_type": "code",
   "execution_count": null,
   "metadata": {
    "collapsed": true
   },
   "outputs": [],
   "source": [
    "# Set speed to speed 1\n",
    "conveyor.set_speed(0)"
   ]
  },
  {
   "cell_type": "code",
   "execution_count": null,
   "metadata": {
    "collapsed": true
   },
   "outputs": [],
   "source": [
    "# move dx (in cm) with v\n",
    "#conveyor.move_dx(30,1)"
   ]
  },
  {
   "cell_type": "code",
   "execution_count": null,
   "metadata": {
    "collapsed": true
   },
   "outputs": [],
   "source": [
    "# Read speed \n",
    "#numberOfmotors = 4\n",
    "#conveyor.send_command(0x07, [numberOfmotors])"
   ]
  },
  {
   "cell_type": "markdown",
   "metadata": {},
   "source": [
    "## Set and get conveyor speed in its own coordinate system"
   ]
  },
  {
   "cell_type": "code",
   "execution_count": null,
   "metadata": {
    "collapsed": true
   },
   "outputs": [],
   "source": [
    "# Set robot speed in its own coordinate system\n",
    "#Vx = 0.0\n",
    "#Vy = 0.0\n",
    "#Wz = 0.0\n",
    "#conveyor.send_command(0x08, [Vx, Vy, Wz])"
   ]
  },
  {
   "cell_type": "code",
   "execution_count": null,
   "metadata": {
    "collapsed": true
   },
   "outputs": [],
   "source": [
    "# Set robot speed to 0 in its own coordinate system\n",
    "#Vx = 0.0\n",
    "#Vy = 0.0\n",
    "#Wz = 0.0\n",
    "\n",
    "#conveyor.send_command(0x08, [Vx, Vy, Wz])"
   ]
  },
  {
   "cell_type": "code",
   "execution_count": null,
   "metadata": {
    "collapsed": true
   },
   "outputs": [],
   "source": [
    "# Read robot speed in its own coordinate system\n",
    "#conveyor.send_command(0x09, [])"
   ]
  },
  {
   "cell_type": "markdown",
   "metadata": {},
   "source": [
    "## Read Robot's coordinates' increments (robot coordinate system)"
   ]
  },
  {
   "cell_type": "code",
   "execution_count": null,
   "metadata": {
    "collapsed": true
   },
   "outputs": [],
   "source": [
    "# Read robot coord in its own coordinate system\n",
    "#protocol.send_command(0x0a, [])"
   ]
  }
 ],
 "metadata": {
  "kernelspec": {
   "display_name": "Python 3",
   "language": "python",
   "name": "python3"
  },
  "language_info": {
   "codemirror_mode": {
    "name": "ipython",
    "version": 3
   },
   "file_extension": ".py",
   "mimetype": "text/x-python",
   "name": "python",
   "nbconvert_exporter": "python",
   "pygments_lexer": "ipython3",
   "version": "3.6.3"
  },
  "toc": {
   "nav_menu": {},
   "number_sections": true,
   "sideBar": true,
   "skip_h1_title": false,
   "toc_cell": false,
   "toc_position": {},
   "toc_section_display": "block",
   "toc_window_display": false
  },
  "varInspector": {
   "cols": {
    "lenName": 16,
    "lenType": 16,
    "lenVar": 40
   },
   "kernels_config": {
    "python": {
     "delete_cmd_postfix": "",
     "delete_cmd_prefix": "del ",
     "library": "var_list.py",
     "varRefreshCmd": "print(var_dic_list())"
    },
    "r": {
     "delete_cmd_postfix": ") ",
     "delete_cmd_prefix": "rm(",
     "library": "var_list.r",
     "varRefreshCmd": "cat(var_dic_list()) "
    }
   },
   "types_to_exclude": [
    "module",
    "function",
    "builtin_function_or_method",
    "instance",
    "_Feature"
   ],
   "window_display": false
  }
 },
 "nbformat": 4,
 "nbformat_minor": 2
}
